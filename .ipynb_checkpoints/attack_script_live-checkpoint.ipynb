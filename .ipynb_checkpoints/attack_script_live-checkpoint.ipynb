{
 "cells": [
  {
   "cell_type": "code",
   "execution_count": 1,
   "id": "a792f5cd",
   "metadata": {},
   "outputs": [
    {
     "name": "stdout",
     "output_type": "stream",
     "text": [
      "WARNING:tensorflow:From C:\\Users\\teent\\anaconda3\\Lib\\site-packages\\keras\\src\\losses.py:2976: The name tf.losses.sparse_softmax_cross_entropy is deprecated. Please use tf.compat.v1.losses.sparse_softmax_cross_entropy instead.\n",
      "\n"
     ]
    }
   ],
   "source": [
    "import numpy as np\n",
    "import tensorflow as tf\n",
    "import pickle\n",
    "import pandas as pd"
   ]
  },
  {
   "cell_type": "code",
   "execution_count": 2,
   "id": "44c4a4fe",
   "metadata": {},
   "outputs": [],
   "source": [
    "# Custom Networks\n",
    "from networks.lenet import LeNet\n",
    "from networks.resnet import ResNet"
   ]
  },
  {
   "cell_type": "code",
   "execution_count": 3,
   "id": "042f5a79",
   "metadata": {},
   "outputs": [],
   "source": [
    "# Helper functions\n",
    "import attack\n",
    "import helper"
   ]
  },
  {
   "cell_type": "code",
   "execution_count": 4,
   "id": "25ac92d3",
   "metadata": {},
   "outputs": [],
   "source": [
    "np.random.seed(100)"
   ]
  },
  {
   "cell_type": "code",
   "execution_count": 5,
   "id": "edd00dfe",
   "metadata": {},
   "outputs": [],
   "source": [
    "(x_train, y_train), (x_test, y_test) = tf.keras.datasets.cifar10.load_data()"
   ]
  },
  {
   "cell_type": "code",
   "execution_count": 6,
   "id": "5839f294",
   "metadata": {},
   "outputs": [],
   "source": [
    "class_names = ['airplane', 'automobile', 'bird', 'cat',\n",
    "               'deer', 'dog', 'frog', 'horse', 'ship', 'truck']"
   ]
  },
  {
   "cell_type": "code",
   "execution_count": 7,
   "id": "b50413e9",
   "metadata": {},
   "outputs": [
    {
     "name": "stdout",
     "output_type": "stream",
     "text": [
      "WARNING:tensorflow:From C:\\Users\\teent\\anaconda3\\Lib\\site-packages\\keras\\src\\backend.py:873: The name tf.get_default_graph is deprecated. Please use tf.compat.v1.get_default_graph instead.\n",
      "\n",
      "WARNING:tensorflow:From C:\\Users\\teent\\anaconda3\\Lib\\site-packages\\keras\\src\\layers\\pooling\\max_pooling2d.py:161: The name tf.nn.max_pool is deprecated. Please use tf.nn.max_pool2d instead.\n",
      "\n",
      "Successfully loaded lenet\n"
     ]
    }
   ],
   "source": [
    "# uncomment the network to attack it\n",
    "model = [LeNet()]\n",
    "# model = [ResNet()]"
   ]
  },
  {
   "cell_type": "code",
   "execution_count": 8,
   "id": "0f1187a8",
   "metadata": {},
   "outputs": [],
   "source": [
    "attacker = attack.PixelAttacker(model, (x_test, y_test), class_names)"
   ]
  },
  {
   "cell_type": "code",
   "execution_count": 9,
   "id": "1ada90e7",
   "metadata": {},
   "outputs": [],
   "source": [
    "def attack_all(models, samples=10000, pixels=(1, 3, 5), targeted=False, verbose=False):\n",
    "    results = []\n",
    "    for model in models:\n",
    "        model_results = []\n",
    "        valid_imgs = correct_imgs[correct_imgs.name == model.name].img\n",
    "        img_samples = np.random.choice(valid_imgs, samples, replace=False)\n",
    "\n",
    "        for pixel_count in pixels:\n",
    "            for i, img in enumerate(img_samples):\n",
    "                print(model.name, '- image', img,\n",
    "                      '-', i+1, '/', len(img_samples))\n",
    "                targets = [None] if not targeted else [np.random.randint(0,10)]\n",
    "\n",
    "                for target in targets:\n",
    "                    result = []\n",
    "                    for i in range(5):\n",
    "                        result_ = attacker.attack(img, model, target, pixel_count, verbose=verbose)\n",
    "                        result.append(result_)\n",
    "                    success = True if np.sum(result) > 1 else False\n",
    "                    model_results.append([img, pixel_count, result, success])\n",
    "                print('pixel_count', pixel_count, 'success ratio:', np.sum(np.array(model_results, dtype = \"object\")[:,3])/len(model_results))\n",
    "\n",
    "        results += model_results\n",
    "\n",
    "    return results"
   ]
  },
  {
   "cell_type": "code",
   "execution_count": 10,
   "id": "3eaf23c6",
   "metadata": {},
   "outputs": [],
   "source": [
    "num_samples = 1 # select the number of random images to attack\n",
    "num_pixels = [1] # select the number of pixels to use during the attack\n",
    "is_targeted = False # select whether attack is targeted or untareted"
   ]
  },
  {
   "cell_type": "code",
   "execution_count": 12,
   "id": "47a6cf2e",
   "metadata": {},
   "outputs": [
    {
     "name": "stdout",
     "output_type": "stream",
     "text": [
      "Evaluating lenet\n",
      "10000/10000 [==============================] - 16s 2ms/step\n"
     ]
    }
   ],
   "source": [
    "_, correct_imgs = helper.evaluate_models(model, x_test, y_test)\n",
    "correct_imgs = pd.DataFrame(correct_imgs, columns=[\n",
    "                            'name', 'img', 'label', 'confidence', 'pred'])"
   ]
  },
  {
   "cell_type": "code",
   "execution_count": null,
   "id": "4e45c9e2",
   "metadata": {},
   "outputs": [],
   "source": [
    "results = attack_all(model, samples=num_samples, pixels=num_pixels, targeted=is_targeted)"
   ]
  },
  {
   "cell_type": "code",
   "execution_count": null,
   "id": "187c38ae",
   "metadata": {},
   "outputs": [],
   "source": []
  }
 ],
 "metadata": {
  "kernelspec": {
   "display_name": "Python 3 (ipykernel)",
   "language": "python",
   "name": "python3"
  },
  "language_info": {
   "codemirror_mode": {
    "name": "ipython",
    "version": 3
   },
   "file_extension": ".py",
   "mimetype": "text/x-python",
   "name": "python",
   "nbconvert_exporter": "python",
   "pygments_lexer": "ipython3",
   "version": "3.11.5"
  },
  "toc": {
   "base_numbering": 1,
   "nav_menu": {},
   "number_sections": true,
   "sideBar": true,
   "skip_h1_title": false,
   "title_cell": "Table of Contents",
   "title_sidebar": "Contents",
   "toc_cell": false,
   "toc_position": {},
   "toc_section_display": true,
   "toc_window_display": false
  }
 },
 "nbformat": 4,
 "nbformat_minor": 5
}
